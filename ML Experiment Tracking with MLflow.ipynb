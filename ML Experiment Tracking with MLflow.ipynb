{
  "cells": [
    {
      "cell_type": "markdown",
      "id": "bb4ae629",
      "metadata": {
        "id": "bb4ae629"
      },
      "source": [
        "\n",
        "# 🚀 ML Experiment Tracking with MLflow\n",
        "\n",
        "This project trains **5 machine learning models** on the Iris dataset and tracks them using **MLflow**.  \n",
        "It automatically registers the **best-performing model** (by F1 score) into the **MLflow Model Registry**, promoting it to **Production**.\n",
        "\n",
        "### ✅ Workflow\n",
        "1. Run all cells in order.\n",
        "2. Watch training logs appear — MLflow will automatically pick the best model.\n",
        "3. The best model is automatically registered and promoted to *Production*.\n",
        "4. A summary of all registered versions is displayed at the end.\n"
      ]
    },
    {
      "cell_type": "code",
      "execution_count": 1,
      "id": "3c7511dd",
      "metadata": {
        "colab": {
          "base_uri": "https://localhost:8080/"
        },
        "id": "3c7511dd",
        "outputId": "1913a253-7ad6-44f4-a99f-7ba81428fd38"
      },
      "outputs": [
        {
          "output_type": "stream",
          "name": "stdout",
          "text": [
            "\u001b[2K   \u001b[90m━━━━━━━━━━━━━━━━━━━━━━━━━━━━━━━━━━━━━━━━\u001b[0m \u001b[32m8.8/8.8 MB\u001b[0m \u001b[31m48.1 MB/s\u001b[0m eta \u001b[36m0:00:00\u001b[0m\n",
            "\u001b[2K   \u001b[90m━━━━━━━━━━━━━━━━━━━━━━━━━━━━━━━━━━━━━━━━\u001b[0m \u001b[32m2.3/2.3 MB\u001b[0m \u001b[31m46.2 MB/s\u001b[0m eta \u001b[36m0:00:00\u001b[0m\n",
            "\u001b[2K   \u001b[90m━━━━━━━━━━━━━━━━━━━━━━━━━━━━━━━━━━━━━━━━\u001b[0m \u001b[32m1.3/1.3 MB\u001b[0m \u001b[31m25.1 MB/s\u001b[0m eta \u001b[36m0:00:00\u001b[0m\n",
            "\u001b[2K   \u001b[90m━━━━━━━━━━━━━━━━━━━━━━━━━━━━━━━━━━━━━━━━\u001b[0m \u001b[32m147.8/147.8 kB\u001b[0m \u001b[31m5.4 MB/s\u001b[0m eta \u001b[36m0:00:00\u001b[0m\n",
            "\u001b[2K   \u001b[90m━━━━━━━━━━━━━━━━━━━━━━━━━━━━━━━━━━━━━━━━\u001b[0m \u001b[32m114.9/114.9 kB\u001b[0m \u001b[31m7.3 MB/s\u001b[0m eta \u001b[36m0:00:00\u001b[0m\n",
            "\u001b[2K   \u001b[90m━━━━━━━━━━━━━━━━━━━━━━━━━━━━━━━━━━━━━━━━\u001b[0m \u001b[32m85.0/85.0 kB\u001b[0m \u001b[31m4.0 MB/s\u001b[0m eta \u001b[36m0:00:00\u001b[0m\n",
            "\u001b[2K   \u001b[90m━━━━━━━━━━━━━━━━━━━━━━━━━━━━━━━━━━━━━━━━\u001b[0m \u001b[32m752.6/752.6 kB\u001b[0m \u001b[31m24.3 MB/s\u001b[0m eta \u001b[36m0:00:00\u001b[0m\n",
            "\u001b[2K   \u001b[90m━━━━━━━━━━━━━━━━━━━━━━━━━━━━━━━━━━━━━━━━\u001b[0m \u001b[32m203.4/203.4 kB\u001b[0m \u001b[31m9.2 MB/s\u001b[0m eta \u001b[36m0:00:00\u001b[0m\n",
            "\u001b[?25h✅ All packages installed successfully.\n"
          ]
        }
      ],
      "source": [
        "!pip install -q mlflow scikit-learn pandas numpy matplotlib\n",
        "print(\"✅ All packages installed successfully.\")"
      ]
    },
    {
      "cell_type": "code",
      "execution_count": 2,
      "id": "72947b46",
      "metadata": {
        "colab": {
          "base_uri": "https://localhost:8080/"
        },
        "id": "72947b46",
        "outputId": "dfc03cdf-06b4-4b10-c3fb-8bd3bd1ab65a"
      },
      "outputs": [
        {
          "output_type": "stream",
          "name": "stderr",
          "text": [
            "2025/10/29 18:26:24 INFO mlflow.tracking.fluent: Experiment with name 'MLOps_Assignment_1' does not exist. Creating a new experiment.\n"
          ]
        },
        {
          "output_type": "stream",
          "name": "stdout",
          "text": [
            "📘 MLflow experiment set to: MLOps_Assignment_1\n"
          ]
        }
      ],
      "source": [
        "import mlflow\n",
        "import mlflow.sklearn\n",
        "from mlflow.tracking import MlflowClient\n",
        "\n",
        "import pandas as pd\n",
        "import numpy as np\n",
        "from sklearn.model_selection import train_test_split\n",
        "from sklearn.preprocessing import LabelEncoder, StandardScaler\n",
        "from sklearn.linear_model import LogisticRegression\n",
        "from sklearn.ensemble import RandomForestClassifier\n",
        "from sklearn.tree import DecisionTreeClassifier\n",
        "from sklearn.svm import SVC\n",
        "from sklearn.neighbors import KNeighborsClassifier\n",
        "from sklearn.metrics import accuracy_score, precision_score, recall_score, f1_score\n",
        "\n",
        "EXPERIMENT_NAME = \"MLOps_Assignment_1\"\n",
        "mlflow.set_experiment(EXPERIMENT_NAME)\n",
        "print(f\"📘 MLflow experiment set to: {EXPERIMENT_NAME}\")"
      ]
    },
    {
      "cell_type": "code",
      "execution_count": 4,
      "id": "2acdd25a",
      "metadata": {
        "colab": {
          "base_uri": "https://localhost:8080/"
        },
        "id": "2acdd25a",
        "outputId": "4297aedf-3c21-44cf-b809-c86d03ca341c"
      },
      "outputs": [
        {
          "output_type": "stream",
          "name": "stderr",
          "text": [
            "2025/10/29 18:27:29 WARNING mlflow.models.model: `artifact_path` is deprecated. Please use `name` instead.\n",
            "\u001b[31m2025/10/29 18:27:39 WARNING mlflow.models.model: Model logged without a signature and input example. Please set `input_example` parameter when logging the model to auto infer the model signature.\u001b[0m\n",
            "2025/10/29 18:27:39 WARNING mlflow.models.model: `artifact_path` is deprecated. Please use `name` instead.\n"
          ]
        },
        {
          "output_type": "stream",
          "name": "stdout",
          "text": [
            " LogisticRegression -> Acc: 1.000, F1: 1.000, Run ID: 5ed72086cb6e41f098d49bb552e9b4bf\n"
          ]
        },
        {
          "output_type": "stream",
          "name": "stderr",
          "text": [
            "\u001b[31m2025/10/29 18:27:42 WARNING mlflow.models.model: Model logged without a signature and input example. Please set `input_example` parameter when logging the model to auto infer the model signature.\u001b[0m\n",
            "2025/10/29 18:27:42 WARNING mlflow.models.model: `artifact_path` is deprecated. Please use `name` instead.\n"
          ]
        },
        {
          "output_type": "stream",
          "name": "stdout",
          "text": [
            " RandomForest -> Acc: 1.000, F1: 1.000, Run ID: 1840e5f571724a1d971833cad9cfb05d\n"
          ]
        },
        {
          "output_type": "stream",
          "name": "stderr",
          "text": [
            "\u001b[31m2025/10/29 18:27:46 WARNING mlflow.models.model: Model logged without a signature and input example. Please set `input_example` parameter when logging the model to auto infer the model signature.\u001b[0m\n",
            "2025/10/29 18:27:46 WARNING mlflow.models.model: `artifact_path` is deprecated. Please use `name` instead.\n"
          ]
        },
        {
          "output_type": "stream",
          "name": "stdout",
          "text": [
            " DecisionTree -> Acc: 1.000, F1: 1.000, Run ID: 42c340ca38284ab3bb11f5a069358b2d\n"
          ]
        },
        {
          "output_type": "stream",
          "name": "stderr",
          "text": [
            "\u001b[31m2025/10/29 18:27:51 WARNING mlflow.models.model: Model logged without a signature and input example. Please set `input_example` parameter when logging the model to auto infer the model signature.\u001b[0m\n",
            "2025/10/29 18:27:51 WARNING mlflow.models.model: `artifact_path` is deprecated. Please use `name` instead.\n"
          ]
        },
        {
          "output_type": "stream",
          "name": "stdout",
          "text": [
            " SVM -> Acc: 1.000, F1: 1.000, Run ID: c040539c3e674ea5bfbfce4f122a3cee\n"
          ]
        },
        {
          "output_type": "stream",
          "name": "stderr",
          "text": [
            "\u001b[31m2025/10/29 18:27:54 WARNING mlflow.models.model: Model logged without a signature and input example. Please set `input_example` parameter when logging the model to auto infer the model signature.\u001b[0m\n",
            "Successfully registered model 'MLOps_Assignment1_BestModel'.\n",
            "2025/10/29 18:27:54 WARNING mlflow.tracking._model_registry.fluent: Run with id 5ed72086cb6e41f098d49bb552e9b4bf has no artifacts at artifact path 'model', registering model based on models:/m-326b2a02696e465ba375a42fbb8b998c instead\n",
            "Created version '1' of model 'MLOps_Assignment1_BestModel'.\n"
          ]
        },
        {
          "output_type": "stream",
          "name": "stdout",
          "text": [
            " KNN -> Acc: 1.000, F1: 1.000, Run ID: 3e59337db21c407baa6c7e191cb56680\n",
            "\n",
            "=== Summary ===\n",
            "Model: LogisticRegression | Acc: 1.000 | F1: 1.000 | Run ID: 5ed72086cb6e41f098d49bb552e9b4bf\n",
            "Model: RandomForest | Acc: 1.000 | F1: 1.000 | Run ID: 1840e5f571724a1d971833cad9cfb05d\n",
            "Model: DecisionTree | Acc: 1.000 | F1: 1.000 | Run ID: 42c340ca38284ab3bb11f5a069358b2d\n",
            "Model: SVM | Acc: 1.000 | F1: 1.000 | Run ID: c040539c3e674ea5bfbfce4f122a3cee\n",
            "Model: KNN | Acc: 1.000 | F1: 1.000 | Run ID: 3e59337db21c407baa6c7e191cb56680\n",
            "\n",
            "🏆 Best model: LogisticRegression | F1: 1.000 | Run ID: 5ed72086cb6e41f098d49bb552e9b4bf\n",
            "\n",
            "📦 Registering model from runs:/5ed72086cb6e41f098d49bb552e9b4bf/model...\n",
            "✅ Model version 1 moved to Staging.\n",
            "🚀 Model version 1 promoted to Production.\n",
            "\n",
            "✅ Final Registered Model Info:\n",
            "Name: MLOps_Assignment1_BestModel, Version: 1, Stage: Production\n"
          ]
        },
        {
          "output_type": "stream",
          "name": "stderr",
          "text": [
            "/tmp/ipython-input-3649135699.py:75: FutureWarning: ``mlflow.tracking.client.MlflowClient.transition_model_version_stage`` is deprecated since 2.9.0. Model registry stages will be removed in a future major release. To learn more about the deprecation of model registry stages, see our migration guide here: https://mlflow.org/docs/latest/model-registry.html#migrating-from-stages\n",
            "  client.transition_model_version_stage(MODEL_NAME, version, stage=\"Staging\")\n",
            "/tmp/ipython-input-3649135699.py:77: FutureWarning: ``mlflow.tracking.client.MlflowClient.transition_model_version_stage`` is deprecated since 2.9.0. Model registry stages will be removed in a future major release. To learn more about the deprecation of model registry stages, see our migration guide here: https://mlflow.org/docs/latest/model-registry.html#migrating-from-stages\n",
            "  client.transition_model_version_stage(MODEL_NAME, version, stage=\"Production\", archive_existing_versions=True)\n"
          ]
        }
      ],
      "source": [
        "def train_and_register_best_model():\n",
        "    # Load data\n",
        "    url = \"https://archive.ics.uci.edu/ml/machine-learning-databases/iris/iris.data\"\n",
        "    # Define column names as the dataset does not have a header\n",
        "    col_names = [\"sepal_length\", \"sepal_width\", \"petal_length\", \"petal_width\", \"species\"]\n",
        "    df = pd.read_csv(url, names=col_names)\n",
        "    le = LabelEncoder()\n",
        "    df['species'] = le.fit_transform(df['species'])\n",
        "    X = df.drop('species', axis=1)\n",
        "    y = df['species']\n",
        "\n",
        "    # Split\n",
        "    X_train, X_test, y_train, y_test = train_test_split(X, y, test_size=0.2, random_state=42)\n",
        "\n",
        "    # Scale\n",
        "    scaler = StandardScaler()\n",
        "    X_train = scaler.fit_transform(X_train)\n",
        "    X_test = scaler.transform(X_test)\n",
        "\n",
        "    models = {\n",
        "        \"LogisticRegression\": LogisticRegression(max_iter=200),\n",
        "        \"RandomForest\": RandomForestClassifier(n_estimators=100, random_state=42),\n",
        "        \"DecisionTree\": DecisionTreeClassifier(random_state=42),\n",
        "        \"SVM\": SVC(kernel='rbf', probability=True),\n",
        "        \"KNN\": KNeighborsClassifier(n_neighbors=5)\n",
        "    }\n",
        "\n",
        "    best_f1 = -1\n",
        "    best_run_id = None\n",
        "    best_model_name = None\n",
        "    results = []\n",
        "\n",
        "    for name, model in models.items():\n",
        "        with mlflow.start_run(run_name=name) as run:\n",
        "            run_id = run.info.run_id\n",
        "            model.fit(X_train, y_train)\n",
        "            y_pred = model.predict(X_test)\n",
        "            acc = accuracy_score(y_test, y_pred)\n",
        "            prec = precision_score(y_test, y_pred, average='macro')\n",
        "            rec = recall_score(y_test, y_pred, average='macro')\n",
        "            f1 = f1_score(y_test, y_pred, average='macro')\n",
        "\n",
        "            mlflow.log_param(\"model_name\", name)\n",
        "            mlflow.log_metric(\"accuracy\", acc)\n",
        "            mlflow.log_metric(\"precision\", prec)\n",
        "            mlflow.log_metric(\"recall\", rec)\n",
        "            mlflow.log_metric(\"f1_score\", f1)\n",
        "            mlflow.sklearn.log_model(model, artifact_path=\"model\")\n",
        "\n",
        "            results.append((name, acc, prec, rec, f1, run_id))\n",
        "            print(f\" {name} -> Acc: {acc:.3f}, F1: {f1:.3f}, Run ID: {run_id}\")\n",
        "\n",
        "            if f1 > best_f1:\n",
        "                best_f1 = f1\n",
        "                best_run_id = run_id\n",
        "                best_model_name = name\n",
        "\n",
        "    print(\"\\n=== Summary ===\")\n",
        "    for r in results:\n",
        "        print(f\"Model: {r[0]} | Acc: {r[1]:.3f} | F1: {r[4]:.3f} | Run ID: {r[5]}\")\n",
        "    print(f\"\\n🏆 Best model: {best_model_name} | F1: {best_f1:.3f} | Run ID: {best_run_id}\")\n",
        "\n",
        "    # Auto-register\n",
        "    MODEL_NAME = \"MLOps_Assignment1_BestModel\"\n",
        "    client = MlflowClient()\n",
        "    model_uri = f\"runs:/{best_run_id}/model\"\n",
        "    print(f\"\\n📦 Registering model from {model_uri}...\")\n",
        "    registered = mlflow.register_model(model_uri, MODEL_NAME)\n",
        "\n",
        "    import time\n",
        "    time.sleep(3)\n",
        "    version = registered.version\n",
        "\n",
        "    # Promote\n",
        "    client.transition_model_version_stage(MODEL_NAME, version, stage=\"Staging\")\n",
        "    print(f\"✅ Model version {version} moved to Staging.\")\n",
        "    client.transition_model_version_stage(MODEL_NAME, version, stage=\"Production\", archive_existing_versions=True)\n",
        "    print(f\"🚀 Model version {version} promoted to Production.\")\n",
        "\n",
        "    print(\"\\n✅ Final Registered Model Info:\")\n",
        "    mv = client.get_model_version(MODEL_NAME, version)\n",
        "    print(f\"Name: {mv.name}, Version: {mv.version}, Stage: {mv.current_stage}\")\n",
        "\n",
        "train_and_register_best_model()"
      ]
    },
    {
      "cell_type": "code",
      "execution_count": 5,
      "id": "d49227a4",
      "metadata": {
        "colab": {
          "base_uri": "https://localhost:8080/"
        },
        "id": "d49227a4",
        "outputId": "338d24d7-eff1-4cde-c023-d0403299910f"
      },
      "outputs": [
        {
          "output_type": "stream",
          "name": "stdout",
          "text": [
            "📊 Registered model versions:\n",
            "Version: 1 | Stage: Production | Run ID: 5ed72086cb6e41f098d49bb552e9b4bf\n"
          ]
        },
        {
          "output_type": "stream",
          "name": "stderr",
          "text": [
            "/tmp/ipython-input-3424994238.py:6: FutureWarning: ``mlflow.tracking.client.MlflowClient.get_latest_versions`` is deprecated since 2.9.0. Model registry stages will be removed in a future major release. To learn more about the deprecation of model registry stages, see our migration guide here: https://mlflow.org/docs/latest/model-registry.html#migrating-from-stages\n",
            "  versions = client.get_latest_versions(MODEL_NAME)\n"
          ]
        }
      ],
      "source": [
        "client = MlflowClient()\n",
        "MODEL_NAME = \"MLOps_Assignment1_BestModel\"\n",
        "\n",
        "print(\"📊 Registered model versions:\")\n",
        "try:\n",
        "    versions = client.get_latest_versions(MODEL_NAME)\n",
        "    for v in versions:\n",
        "        print(f\"Version: {v.version} | Stage: {v.current_stage} | Run ID: {v.run_id}\")\n",
        "except Exception as e:\n",
        "    print(\"Error listing versions:\", e)"
      ]
    },
    {
      "cell_type": "code",
      "execution_count": 6,
      "id": "a63dc2d2",
      "metadata": {
        "colab": {
          "base_uri": "https://localhost:8080/"
        },
        "id": "a63dc2d2",
        "outputId": "4ca0d84d-6c43-465e-ba91-35780dde6547"
      },
      "outputs": [
        {
          "output_type": "stream",
          "name": "stdout",
          "text": [
            "🧹 Cleared /content/mlruns\n",
            "Cleanup cell ready. Uncomment lines above to reset MLflow logs if needed.\n"
          ]
        }
      ],
      "source": [
        "# Optional cleanup\n",
        "import shutil\n",
        "shutil.rmtree('/content/mlruns', ignore_errors=True)\n",
        "print('🧹 Cleared /content/mlruns')\n",
        "print('Cleanup cell ready. Uncomment lines above to reset MLflow logs if needed.')"
      ]
    },
    {
      "cell_type": "code",
      "source": [],
      "metadata": {
        "id": "GrPzCs_-OkJW"
      },
      "id": "GrPzCs_-OkJW",
      "execution_count": null,
      "outputs": []
    }
  ],
  "metadata": {
    "colab": {
      "provenance": []
    },
    "language_info": {
      "name": "python"
    },
    "kernelspec": {
      "name": "python3",
      "display_name": "Python 3"
    }
  },
  "nbformat": 4,
  "nbformat_minor": 5
}